{
 "cells": [
  {
   "cell_type": "markdown",
   "metadata": {},
   "source": [
    "# Lab 4: Diversity of Phytoplankton Communities\n",
    "\n",
    "## ***Lab Overview***\n",
    "In this lab you will examine plankton counts and species diversity to evaluate plankton dynamics and water column characteristics in the Strait of Georgia.\n",
    "\n",
    "## ***Learning Goals***\n",
    "After completing this lab, you will be able to:\n",
    "- use Python more independently, and write your own functions in Python\n",
    "- appreciate the functionality of log-scales on a plot\n",
    "- calculate the Shannon-Wiener diversity index using real plankton data\n",
    "- connect phytoplankton abundance and phytoplankton diversity and their seasonal variability\n",
    "\n",
    "## ***To hand in***\n",
    "1. The code for your mymean() function.\n",
    "2. A plot with two subplots of the Total Phytoplankton Count time-series. The first subplot should use a linear y-axis and the other should use a log y-axis.\n",
    "3. The code for your Shannon-Wiener Index function.\n",
    "4. A time series plot of the Shannon-Wiener diversity index.\n",
    "5. Two plots, each with two subplots, showing the Phytoplankton Count and the SW index for the years 2003 and 2004, respectively.\n",
    "\n",
    "This week, you will have greater freedom than you've had before to choose your own methods for accomplishing the outlined tasks. \n",
    "\n",
    "\n",
    "### **1. Writing a User-Defined Function**\n",
    "\n",
    "Let's begin by writing a simple function called `mymean()` that:\n",
    "- accepts a single input argument, which can be a list or a numpy array.\n",
    "- produces an error message if the input argument is *NOT* a list or numpy array.\n",
    "- returns the mean of all values stored in the input argument.\n",
    "- ignores any NaN values contained in the input argument.\n",
    "\n",
    "When writing your function, you should not use the existing `.mean()` or `.nanmean()` functions. You may, however, use the the `.isnan()` function to identify NaN values in your input array.\n",
    "\n",
    "**In the code cell below:** Define your function `mymean()` using the syntax outlined in the pre-lab. \n",
    "\n",
    "**3 pts; 1 for function,  2 for correct test cases**"
   ]
  },
  {
   "cell_type": "code",
   "execution_count": null,
   "metadata": {},
   "outputs": [],
   "source": [
    "# importing a few modules that we will use later, you will need to import the rest\n",
    "import matplotlib.dates as mdates\n",
    "from matplotlib.dates import DateFormatter\n",
    "\n",
    "# YOUR CODE HERE"
   ]
  },
  {
   "cell_type": "markdown",
   "metadata": {},
   "source": [
    "Great, now let's compare the performance of your function to `numpy.nanmean()`. If you have written your function successfully, they should return the same values.\n",
    "\n",
    "\n",
    "**In the code cell below:** Calculate and print the mean values of the provided arrays `A` and `B` using both your `mymean()` function and `numpy.nanmean()`. "
   ]
  },
  {
   "cell_type": "code",
   "execution_count": null,
   "metadata": {},
   "outputs": [],
   "source": [
    "A = [3, 5, float(\"NaN\"), 7];\n",
    "B = np.array([2.1, 9.4, float(\"NaN\"), 7.5, float(\"NaN\"), 5.2]);\n",
    "\n",
    "print(mymean(A))\n",
    "print(mymean(B))\n",
    "print(np.nanmean(A))\n",
    "print(np.nanmean(B))"
   ]
  },
  {
   "cell_type": "markdown",
   "metadata": {},
   "source": [
    "### **2. Load the STRATOGEM data**\n",
    "\n",
    "The STRATOGEM project (http://www.stratogem.ubc.ca/index.html) was an interdisciplinary study of the Strait of Georgia's biological and physical processes, attempting to understand how the physical conditions in the Strait of Georgia affected the growth of the plankton. We will be using the phytoplankton count data from this project, courtesy of Dr. Rich Pawlowicz.\n",
    "\n",
    "You have been provided with the file `STRATOGEM_plankton.xls`. This is a MS Excel file containing the phytoplankton counts sampled at various times, organized by species. Begin by loading this data set into a DataFrame. There are two main ways we have done this up until now. the commands for which are:\n",
    "- read the Excel file directly using the function read_excel().\n",
    "- convert the .xlsx file to a CSV (text) file and read this using read_csv().\n",
    "\n",
    "For this lab, the choice is up to you and inconsequential. However, you should be aware that `.read_csv()` can be upwards of 40 times faster than `.read_excel()`, depending on the size of your file!\n",
    "\n",
    "Regardless of your choice, you should end up with a dataframe that contains phytoplankton counts for 39 species at 51 different points in time. The dataframe should be datetime-indexed and should have counts for each plankton species stored in a separate column.\n",
    "\n",
    "**In the code cell below:** Read the `STRATOGEM_plankton.xls` file into a dataframe."
   ]
  },
  {
   "cell_type": "code",
   "execution_count": null,
   "metadata": {},
   "outputs": [],
   "source": [
    "# YOUR CODE HERE"
   ]
  },
  {
   "cell_type": "markdown",
   "metadata": {},
   "source": [
    "### **3. Plot the STRATOGEM data**\n",
    "\n",
    "Once you have the data loaded, create a time-series plot of the total phytoplankton count of all species. That is, if your dataframe containing the phytoplankton counts has the same shape as the original Excel file did, you need to sum the elements in every row. You can use one of the function`.sum()` or `.nansum()` to accomplish this, but you will need to specify that you want your sum to be taken along the second dimension, i.e. along each row, because by default Python will sum along each column.\n",
    "\n",
    "When you plot your data, you will notice that there is a huge range in phytoplankton abundances, which makes it difficult to compare the less abundant species. This is often a problem when evaluating data that spans multiple orders of magnitude. In such cases, it is common to plot the data on a logarithmic axis to 'normalize' the data.\n",
    "\n",
    "The command for adjusting the scaling of your axes will vary according to how you choose to plot your data (procedural vs, object-oriented). However, it should not be fairly easy to find such a command using the online resources that you should know and love by now.\n",
    "\n",
    "When you plot a log axis, it is useful to also plot gridlines at each power of 10 (10, 100, 100, ...) on the axis, so that the reader can easily distinguish the different'zones' of the log axis. You can do this using the `plt.grid(axis='y')` command - try it out!\n",
    "\n",
    "**In the code cell below:** generate a figure with two subplots, each showing the time-series of Total Phytoplankton Count. Let one subplot have a regular linear scale on the y-axis, and let the other have a log-scale on the y-axis. \n",
    "\n",
    "**5pts; 2 for figure elements, 2 correct data; 1 for correct axes**"
   ]
  },
  {
   "cell_type": "code",
   "execution_count": null,
   "metadata": {},
   "outputs": [],
   "source": [
    "# YOUR CODE HERE"
   ]
  },
  {
   "cell_type": "markdown",
   "metadata": {},
   "source": [
    "### **4. Create a function to calculate the Shannon-Wiener Index**\n",
    "\n",
    "Now, create a function that will calculate the Shannon-Wiener (SW) diversity index. The input argument should be a 1-D array that contains the counts of a number of different phytoplankton species in a sample. The output will be one number, the SW index. That is, once you have your function, you want to be able to choose a date (by choosing a row in your dataframe) and calculate the diversity on that day by using the row as the input argument to the SW function.\n",
    "\n",
    "Your function header could look something like this, but of course you can choose your own variable names and your own name for the function:\n",
    "\n",
    "<code>def shannonWiener(phytoplanktonCounts):</code>\n",
    "\n",
    "To create the summation in your function, you will probably want to use a for-loop that iterates over your input variable, something like this:\n",
    "\n",
    "<code>H=0\n",
    "for i in phytoplanktonCounts   \n",
    "\t# Calculate the individual p_i here. Then calculate\n",
    "\tH_i = p_i * np.log(p_i);\n",
    "\tH = H + H_i;\n",
    "</code>\n",
    "\n",
    "You will likely find that the calculation will go more smoothly if you remove any NaN or 0 values before the loop.\n",
    "\n",
    "**In the code cell below:** Define your function."
   ]
  },
  {
   "cell_type": "code",
   "execution_count": null,
   "metadata": {},
   "outputs": [],
   "source": [
    "# YOUR CODE HERE"
   ]
  },
  {
   "cell_type": "markdown",
   "metadata": {},
   "source": [
    "Now that your function is finished, test it.  Use the following species counts to test your function:\n",
    "\n",
    "**3 pts; 1 for function, 2 for test cases**"
   ]
  },
  {
   "cell_type": "code",
   "execution_count": 1,
   "metadata": {},
   "outputs": [
    {
     "ename": "NameError",
     "evalue": "name 'shannon_wiener' is not defined",
     "output_type": "error",
     "traceback": [
      "\u001b[1;31m---------------------------------------------------------------------------\u001b[0m",
      "\u001b[1;31mNameError\u001b[0m                                 Traceback (most recent call last)",
      "Cell \u001b[1;32mIn[1], line 1\u001b[0m\n\u001b[1;32m----> 1\u001b[0m \u001b[38;5;28mprint\u001b[39m(\u001b[43mshannon_wiener\u001b[49m(np\u001b[38;5;241m.\u001b[39marray([\u001b[38;5;241m1\u001b[39m, \u001b[38;5;241m1\u001b[39m, \u001b[38;5;241m1\u001b[39m]))) \u001b[38;5;66;03m#should equal 1.0986\u001b[39;00m\n\u001b[0;32m      2\u001b[0m \u001b[38;5;28mprint\u001b[39m(shannon_wiener(np\u001b[38;5;241m.\u001b[39marray([\u001b[38;5;241m1\u001b[39m, \u001b[38;5;241m2\u001b[39m, \u001b[38;5;241m3\u001b[39m]))) \u001b[38;5;66;03m#should equal 1.0114\u001b[39;00m\n\u001b[0;32m      3\u001b[0m \u001b[38;5;28mprint\u001b[39m(shannon_wiener(np\u001b[38;5;241m.\u001b[39marray([\u001b[38;5;241m0\u001b[39m, \u001b[38;5;241m0\u001b[39m, \u001b[38;5;241m0\u001b[39m]))) \u001b[38;5;66;03m#should equal 0\u001b[39;00m\n",
      "\u001b[1;31mNameError\u001b[0m: name 'shannon_wiener' is not defined"
     ]
    }
   ],
   "source": [
    "print(shannon_wiener(np.array([1, 1, 1]))) #should equal 1.0986\n",
    "print(shannon_wiener(np.array([1, 2, 3]))) #should equal 1.0114\n",
    "print(shannon_wiener(np.array([0, 0, 0]))) #should equal 0\n",
    "print(shannon_wiener(np.array([1, float(\"NaN\"), 1]))) #should equal 0.6931"
   ]
  },
  {
   "cell_type": "markdown",
   "metadata": {},
   "source": [
    "If your function returns the correct values, you can continue with the lab.\n",
    "\n",
    "### **5.  Calculate and plot the Shannon-Wiener index for the STRATOGEM data**\n",
    "\n",
    "Now that you have a function that calculates the SW index, use your phytoplankton data to calculate a time series of the SW index. Because your function only calculates the index for one sample (on one date) you will need a loop that runs over all the rows (dates) and calculates the SW index for the phytoplankton counts on each date.\n",
    "\n",
    "Make a plot of the SW diversity index in the Straight of Georgia over the time span of the STRATOGEM data.\n",
    "\n",
    "**4 pts; 2 data plotted correctly, 2 for figure elements**"
   ]
  },
  {
   "cell_type": "code",
   "execution_count": null,
   "metadata": {},
   "outputs": [],
   "source": [
    "# YOUR CODE HERE"
   ]
  },
  {
   "cell_type": "markdown",
   "metadata": {},
   "source": [
    "## **5.  Calculate the SW index and total phytoplankton by year**\n",
    "\n",
    "Make a figure with two subplots. The first subplot should contain the time series of the total phytoplankton count for the year 2003 only; the second should contain the time series of the SW diversity index for the same year. Choose an appropriate type of scale for the y-axis.\n",
    "\n",
    "Data visualization tips:\n",
    "- When plotting different variables in the same figure, it is useful to use different colors to help differentiate them\\\n",
    "- To make the xtick labels look 'nice', we can specify the formatting of the dates. I have saved a format into the variable `date_form` at the beginning of the next code cell; you can apply this format to an xaxis in your figure by calling `your_axis.xaxis.set_major_formatter(date_form)` (using your own axis name, of course).\n",
    "- If you plot the subplots above one another, you can set the parameter `sharex=True` when you call `.subplot()` or `.subplots()` to make them share the same xaxis (which will display on the lower subplot only).\n",
    "\n",
    "**In the code cell below:** Generate a figure that contains the time-series of Total Phytoplankton Count and SW Index for the year 2003, each in a separate subplot.\n",
    "\n",
    "**4 pts; 2 data plotted correctly, 2 for figure elements**"
   ]
  },
  {
   "cell_type": "code",
   "execution_count": null,
   "metadata": {},
   "outputs": [],
   "source": [
    "# YOUR CODE HERE"
   ]
  },
  {
   "cell_type": "markdown",
   "metadata": {},
   "source": [
    "Well done! Now, let's make your final figure for EOSC 442!\n",
    "\n",
    "**In the code cell below:** Generate a figure that contains the time-series of Total Phytoplankton Count and SW Index for the year 2004, each in a separate subplot.\n",
    "\n",
    "**4 pts; 2 data plotted correctly, 2 for figure elements**"
   ]
  },
  {
   "cell_type": "code",
   "execution_count": null,
   "metadata": {},
   "outputs": [],
   "source": [
    "# YOUR CODE HERE"
   ]
  }
 ],
 "metadata": {
  "kernelspec": {
   "display_name": "Python 3 (ipykernel)",
   "language": "python",
   "name": "python3"
  },
  "language_info": {
   "codemirror_mode": {
    "name": "ipython",
    "version": 3
   },
   "file_extension": ".py",
   "mimetype": "text/x-python",
   "name": "python",
   "nbconvert_exporter": "python",
   "pygments_lexer": "ipython3",
   "version": "3.10.9"
  }
 },
 "nbformat": 4,
 "nbformat_minor": 4
}
